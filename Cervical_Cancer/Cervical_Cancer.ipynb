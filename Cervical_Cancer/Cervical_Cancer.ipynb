{
 "cells": [
  {
   "cell_type": "code",
   "execution_count": 4,
   "metadata": {},
   "outputs": [],
   "source": [
    "import os\n",
    "import piexif\n",
    "import cv2\n",
    "import numpy as np\n",
    "from sklearn.model_selection import train_test_split\n",
    "import sys"
   ]
  },
  {
   "cell_type": "code",
   "execution_count": null,
   "metadata": {},
   "outputs": [],
   "source": [
    "def preprocess_images(root, train=True):\n",
    "    features = []\n",
    "    labels = []\n",
    "    \n",
    "    for subdir, dirs, files in os.walk(root):\n",
    "        count  = 0\n",
    "        for file in files:\n",
    "            tot_files = len(files)\n",
    "            if not file == \".DS_Store\":\n",
    "                count += 1\n",
    "                sys.stdout.write(\"\\rFile = \" + file + \" ----- Progress: {:2.1f}%\".format(100 * count/float(tot_files)))\n",
    "                img = os.path.join(subdir, file)\n",
    "                if os.stat(img).st_size > 0:\n",
    "                    piexif.remove(img)\n",
    "                else:\n",
    "                    continue\n",
    "                im = cv2.imread(img)\n",
    "                im = cv2.resize(im, (32, 32))\n",
    "                feature = np.array(im, dtype=np.float32)\n",
    "                features.append(feature)\n",
    "                # One Hot Encoding\n",
    "                if train == True:\n",
    "                    label = os.path.basename(subdir)\n",
    "                    if label == \"1\":\n",
    "                        label = [1,0,0]\n",
    "                    elif label == \"2\":\n",
    "                        label = [0,1,0]\n",
    "                    else:\n",
    "                        label = [0,0,1]  \n",
    "                    labels.append(label)\n",
    "                else:\n",
    "                    label = os.path.basename(img)\n",
    "                    labels.append(label)\n",
    "                sys.stdout.flush()\n",
    "    \n",
    "    if train == True:\n",
    "        labels = np.array(labels, np.uint8)\n",
    "        \n",
    "    features = np.array(features, np.float32) / 255.\n",
    "    \n",
    "    return features, labels"
   ]
  },
  {
   "cell_type": "code",
   "execution_count": null,
   "metadata": {},
   "outputs": [],
   "source": [
    "X, y = preprocess_images(\"train/\", train=True)"
   ]
  },
  {
   "cell_type": "code",
   "execution_count": null,
   "metadata": {},
   "outputs": [],
   "source": [
    "X_test, y_test = preprocess_images(\"test/\", train=False)"
   ]
  },
  {
   "cell_type": "code",
   "execution_count": null,
   "metadata": {},
   "outputs": [],
   "source": [
    "X_train, X_valid, y_train, y_valid = train_test_split(X, y, test_size=0.20, random_state=0)"
   ]
  },
  {
   "cell_type": "code",
   "execution_count": null,
   "metadata": {},
   "outputs": [],
   "source": [
    "np.savez('data', X_train, y_train, X_valid, y_valid, X_test, y_test)"
   ]
  },
  {
   "cell_type": "markdown",
   "metadata": {},
   "source": [
    "# Model"
   ]
  },
  {
   "cell_type": "code",
   "execution_count": 1,
   "metadata": {},
   "outputs": [
    {
     "name": "stderr",
     "output_type": "stream",
     "text": [
      "Using TensorFlow backend.\n"
     ]
    }
   ],
   "source": [
    "import keras as k\n",
    "from keras.models import Sequential\n",
    "from keras.layers import Dense, Dropout, Flatten\n",
    "from keras.layers import Conv2D, MaxPooling2D, ZeroPadding2D\n",
    "from keras import optimizers\n",
    "import matplotlib.pyplot as plt\n",
    "import pandas as pd\n",
    "%matplotlib inline"
   ]
  },
  {
   "cell_type": "code",
   "execution_count": 2,
   "metadata": {},
   "outputs": [],
   "source": [
    "model = Sequential()\n",
    "model.add(ZeroPadding2D((1,1),input_shape=(32,32,3)))\n",
    "model.add(Conv2D(32, (3, 3),activation='relu'))\n",
    "model.add(Dropout(0.5))\n",
    "model.add(Conv2D(32, (3, 3), activation='relu'))\n",
    "model.add(MaxPooling2D(pool_size=(2, 2), strides=None, padding='valid', data_format=None))\n",
    "model.add(Dropout(0.5))\n",
    "model.add(Conv2D(128, (3, 3), activation='relu'))\n",
    "model.add(Flatten())\n",
    "model.add(Dense(256, activation='relu'))\n",
    "model.add(Dropout(0.5))\n",
    "model.add(Dense(3, activation='softmax'))\n",
    "model.compile(loss='categorical_crossentropy',\n",
    "              optimizer=optimizers.SGD(lr=0.01, momentum=0.01, decay=0.0),\n",
    "              metrics=['accuracy'])"
   ]
  },
  {
   "cell_type": "code",
   "execution_count": 6,
   "metadata": {},
   "outputs": [],
   "source": [
    "with np.load('data.npz') as data:\n",
    "    xtrain = data['arr_0']\n",
    "    ytrain = data['arr_1']\n",
    "    xval = data['arr_2']\n",
    "    yval = data['arr_3']\n",
    "    xtest = data['arr_4']\n",
    "    ytest = data['arr_5']"
   ]
  },
  {
   "cell_type": "code",
   "execution_count": null,
   "metadata": {},
   "outputs": [],
   "source": [
    "slice_size = len(xtrain)\n",
    "hist = model.fit(xtrain[:slice_size], ytrain[:slice_size],\n",
    "                    batch_size=128,\n",
    "                    epochs=125,\n",
    "                    verbose=0,\n",
    "                    validation_data=(xval[:slice_size], yval[:slice_size]))\n",
    "model.save_weights('weights.h5')"
   ]
  },
  {
   "cell_type": "code",
   "execution_count": null,
   "metadata": {},
   "outputs": [],
   "source": [
    "plt.plot(hist.history['acc'])\n",
    "plt.plot(hist.history['val_acc'])\n",
    "plt.title('model accuracy')\n",
    "plt.ylabel('accuracy')\n",
    "plt.xlabel('epoch')\n",
    "plt.legend(['train', 'valid'], loc='upper left')\n",
    "plt.show()\n",
    "plt.plot(hist.history['loss'])\n",
    "plt.plot(hist.history['val_loss'])\n",
    "plt.title('model loss')\n",
    "plt.ylabel('loss')\n",
    "plt.xlabel('epoch')\n",
    "plt.legend(['train', 'valid'], loc='upper left')\n",
    "plt.show()"
   ]
  },
  {
   "cell_type": "code",
   "execution_count": 7,
   "metadata": {},
   "outputs": [],
   "source": [
    "model.load_weights('weights.h5')"
   ]
  },
  {
   "cell_type": "code",
   "execution_count": 26,
   "metadata": {},
   "outputs": [],
   "source": [
    "y_pred = model.predict(xtest, batch_size=32, verbose=0)\n",
    "y_pred = np.argmax(y_pred, axis=1)+1\n",
    "temp = np.column_stack((ytest,y_pred))\n",
    "df = pd.DataFrame(temp, columns=['image_name','Type'])\n",
    "df.to_csv('predictions.csv',index=False)"
   ]
  },
  {
   "cell_type": "code",
   "execution_count": null,
   "metadata": {},
   "outputs": [],
   "source": []
  }
 ],
 "metadata": {
  "kernelspec": {
   "display_name": "Python 3",
   "language": "python",
   "name": "python3"
  },
  "language_info": {
   "codemirror_mode": {
    "name": "ipython",
    "version": 3
   },
   "file_extension": ".py",
   "mimetype": "text/x-python",
   "name": "python",
   "nbconvert_exporter": "python",
   "pygments_lexer": "ipython3",
   "version": "3.6.5"
  }
 },
 "nbformat": 4,
 "nbformat_minor": 2
}
